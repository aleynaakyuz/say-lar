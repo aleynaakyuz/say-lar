{
  "nbformat": 4,
  "nbformat_minor": 0,
  "metadata": {
    "colab": {
      "name": "Copy of PHYS-198-Midterm-Project-2.ipynb",
      "provenance": [],
      "collapsed_sections": [
        "OIKVyxksVj2z",
        "NObLiOAchoaw"
      ]
    },
    "kernelspec": {
      "name": "python3",
      "display_name": "Python 3"
    }
  },
  "cells": [
    {
      "cell_type": "markdown",
      "metadata": {
        "id": "GmrsWSzyyn-D",
        "colab_type": "text"
      },
      "source": [
        "Aleyna Akyüz 2018203021 aleynaakyuz1@gmail.com"
      ]
    },
    {
      "cell_type": "code",
      "metadata": {
        "id": "1Wn2dMidtSBp",
        "colab_type": "code",
        "colab": {}
      },
      "source": [
        "import numpy as np\n",
        "import scipy.optimize as so\n",
        "import matplotlib.pyplot as plt\n",
        "import scipy.integrate as si"
      ],
      "execution_count": 0,
      "outputs": []
    },
    {
      "cell_type": "markdown",
      "metadata": {
        "id": "_9hbD_mhasrx",
        "colab_type": "text"
      },
      "source": [
        "# General comments\n",
        "\n",
        "- This midterm project is broadly similar to Homework 4. Understanding the solutions of that homework may help you with this project as well.\n",
        "  - **BUT**: note that while there is some similarity, the problems here are actually **different** from those of Homework 4! \n",
        "  - So: Please read them carefully, don't blindly copy stuff from Homework 4!\n",
        "- There are some **sanity checks** for you through the project. These are intended to help you check for certain types of error. The sanity checks are **required** parts of the project, unless explicitly stated otherwise.\n"
      ]
    },
    {
      "cell_type": "markdown",
      "metadata": {
        "id": "BwsxvBNJLG51",
        "colab_type": "text"
      },
      "source": [
        "# Problem 1: Four pendulums with springs"
      ]
    },
    {
      "cell_type": "markdown",
      "metadata": {
        "id": "K43Kqv4uQbcJ",
        "colab_type": "text"
      },
      "source": [
        "## Part 1-Introduction\n",
        "\n",
        "Consider a system of **four** identical **pendulums** making small oscillations. Assume the pendulums are all oscillating in the same plane and are coupled to each other by three identical springs. Assume also that the springs are relaxed when the pendulums are in vertical position, so the system is in equilibrium when all pendulums are vertical.\n",
        "\n",
        "As coordinates describing this system, we will use the horizontal displacements $x_i$ from the equilibrium locations of the particles $i=1, \\ldots, 4$.\n",
        "\n",
        "### Forces\n",
        "\n",
        "Let $l$ be the length of the pendulum and $k$ be the spring constant. In the limit of small displacements, the forces on the masses are:\n",
        "$$\n",
        "\\begin{eqnarray}\n",
        "  F_1 &=& k(x_2-x_1) - \\frac{mg}{l} x_1\\\\\n",
        "  F_2 &=& k(x_3-x_2) + k(x_1-x_2) - \\frac{mg}{l} x_2\\\\ \n",
        "  F_3 &=& k(x_2-x_3) + k(x_4-x_3) - \\frac{mg}{l} x_3 \\\\ \n",
        "  F_4 &=& k(x_3-x_4) - \\frac{mg}{l} x_4\n",
        "\\end{eqnarray}\n",
        "$$\n",
        "\n",
        "\n",
        "\n",
        "- Here, each spring is contributing a force proportional to the amount of stretch/squeeze from its relaxed size due to the displacements of the two masses it connects, and in addition, \n",
        "- there is a pendulum force for each mass.\n",
        "\n",
        "### Equations of motion\n",
        "\n",
        "We would like to solve the coupled equations of motion\n",
        "\n",
        "$$\n",
        "F_i = m x_i''\n",
        "$$\n",
        "for $i=1,2,3, 4$.\n",
        "\n",
        "- As usual, we will use our trick of setting velocities as new variables, $x'=v$, in order to reduce the order of the equation.\n",
        "- We have 4 **second order** equations (equations with second derivatives), so we will have 8 **first order** equations (equations with first derivatives).\n",
        "- Let's write them out:\n",
        "\n",
        "$$\n",
        "\\begin{eqnarray}\n",
        "  x_1' &=& v_1 \\\\\n",
        "  x_2' &=& v_2 \\\\\n",
        "  x_3' &=& v_3 \\\\\n",
        "  x_4' &=& v_4 \\\\\n",
        "  \\\\\n",
        "  v_1' &=& F_1 \\\\\n",
        "  v_2' &=& F_2 \\\\\n",
        "  v_3' &=& F_3 \\\\\n",
        "  v_4' &=& F_4\n",
        "\\end{eqnarray}\n",
        "$$\n",
        "The first four equations are just the definition of the $v$ (velocity) variables. The last four are the equations of motion (Newton's equation), and the forces are to be submitted from the formulas we gave above.\n",
        "\n",
        "### Fixing the constants\n",
        "\n",
        "We will \n",
        "- pick $m=1$, \n",
        "- pick $k=1$, and \n",
        "- **replace** $g/l$ with a new constant $c$:\n",
        "$$\n",
        "  \\frac{g}{l} = c \\,.\n",
        "$$\n",
        "\n",
        "We will leave $c$ arbitrary for now, and set it to specific values below.\n",
        "\n",
        "\n",
        "\n"
      ]
    },
    {
      "cell_type": "markdown",
      "metadata": {
        "id": "FyDUxic5FnRM",
        "colab_type": "text"
      },
      "source": [
        "# Part 1a: Define the derivative function\n",
        "\n",
        "We will use the grouping \n",
        "```\n",
        "y = [x1, x2, x3, x4, v1, v2, v3, v4]\n",
        "```\n",
        "and the equations above, together with the fixed values of the constants mentioned, i.e., \n",
        "$$\n",
        "\\begin{eqnarray}\n",
        "m&=&1 \\\\ \n",
        "k&=&1 \\\\\n",
        "g/l &=& c\\,.\n",
        "\\end{eqnarray}\n",
        "$$\n",
        "\n",
        "With these conditions, **define a Python function**\n",
        "```\n",
        "f_4mass(t, y)\n",
        "```\n",
        "that gives the right hand sides of the 8 first order equations above in terms of the entries of the `y` vector. \n",
        "\n",
        "This will allow us to represent the 8 equations as a single vector equation:\n",
        "```\n",
        "  y'(t) = f_4mass(t,y)\n",
        "```\n",
        "\n",
        "Just to reiterate:\n",
        "- Your function `f_4mass(t, y)` should take in an 8-element vector `y`, whose entries are to be assumed as above, together with a time variable `t`, \n",
        "- it should return an 8-element vector consisting of the derivatives of the components of `y`, computed according to the equations above, and\n",
        "- it should use the currently arbitrary constant $c$."
      ]
    },
    {
      "cell_type": "markdown",
      "metadata": {
        "id": "i9L6CB1uo563",
        "colab_type": "text"
      },
      "source": [
        "#### Solution"
      ]
    },
    {
      "cell_type": "code",
      "metadata": {
        "id": "RgzipitR2tVt",
        "colab_type": "code",
        "colab": {}
      },
      "source": [
        "def f_4mass(t, y):\n",
        "  f1=y[1]-y[0]*(1+c)\n",
        "  f2=y[0]+y[2]-y[1]*(2+c)\n",
        "  f3=y[1]+y[3]-y[2]*(2+c)\n",
        "  f4=y[2]-y[3]*(1+c)\n",
        "  return np.array([y[4], y[5], y[6], y[7], f1, f2, f3, f4])"
      ],
      "execution_count": 0,
      "outputs": []
    },
    {
      "cell_type": "code",
      "metadata": {
        "id": "ifuFwlTxbyuv",
        "colab_type": "code",
        "colab": {}
      },
      "source": [
        "# sanity check: when you use\n",
        "#   c = 1\n",
        "#   t = 0\n",
        "#   y = [1,2,3,4,5,6,7,8]\n",
        "# \n",
        "# the function f_4mass() should return the array\n",
        "#\n",
        "#   [5, 6, 7, 8, 0, -2, -3, -5]\n",
        "#\n",
        "# NOTE: don't neglect to DELETE the c variable after the sanity check! \n",
        "# to delete, use:\n",
        "# \n",
        "#   del c"
      ],
      "execution_count": 0,
      "outputs": []
    },
    {
      "cell_type": "code",
      "metadata": {
        "id": "k3jPM7PYukqS",
        "colab_type": "code",
        "outputId": "0c71f71d-287c-4a7c-96f2-48e9150f4e89",
        "colab": {
          "base_uri": "https://localhost:8080/",
          "height": 34
        }
      },
      "source": [
        "c = 1\n",
        "t = 0\n",
        "y = [1,2,3,4,5,6,7,8]\n",
        "f_4mass(t, y)"
      ],
      "execution_count": 44,
      "outputs": [
        {
          "output_type": "execute_result",
          "data": {
            "text/plain": [
              "array([ 5,  6,  7,  8,  0, -2, -3, -5])"
            ]
          },
          "metadata": {
            "tags": []
          },
          "execution_count": 44
        }
      ]
    },
    {
      "cell_type": "code",
      "metadata": {
        "id": "ddLCFyDkvXvP",
        "colab_type": "code",
        "colab": {}
      },
      "source": [
        "del c"
      ],
      "execution_count": 0,
      "outputs": []
    },
    {
      "cell_type": "markdown",
      "metadata": {
        "id": "mXYXUvZJLUgH",
        "colab_type": "text"
      },
      "source": [
        "## Part 1b: Solve the equation for $c=0$\n",
        "\n",
        "Now set $c=0$ and use `scipy.integrate.solve_ivp()` to get a solution to the equations of motion. For initial conditions, use:\n",
        "- zero initial velocity for all four particles (masses), and\n",
        "- 1 for the displacement of the first particle, and \n",
        "- zero for the displacements of the remaining three particles. \n",
        "\n",
        "In other words,\n",
        "\n",
        "```\n",
        "x1_init = 1\n",
        "x2_init = 0\n",
        "x3_init = 0\n",
        "x4_init = 0\n",
        "\n",
        "v1_init = 0\n",
        "v2_init = 0\n",
        "v3_init = 0\n",
        "v4_init = 0\n",
        "```\n",
        "\n",
        "With these initial conditions, solve the equations of motion for `t` between 0 and 20. As always, do not forget to use `dense_output=True` in your call to `solve_ivp()`.\n",
        "\n",
        "**Name your solution object `sol_1`**\n",
        "\n",
        "- Note that **we will refer to this solution in other parts below**, so make sure you use exactly this name: `sol_1`."
      ]
    },
    {
      "cell_type": "markdown",
      "metadata": {
        "id": "IXEqy-sb3DwV",
        "colab_type": "text"
      },
      "source": [
        "#### Solution"
      ]
    },
    {
      "cell_type": "code",
      "metadata": {
        "id": "aXMN6Ia-2xn9",
        "colab_type": "code",
        "colab": {}
      },
      "source": [
        "c=0\n",
        "\n",
        "sol_1=si.solve_ivp(f_4mass, t_span=[0, 20], y0=[1,0,0,0,0,0,0,0], dense_output=True)"
      ],
      "execution_count": 0,
      "outputs": []
    },
    {
      "cell_type": "markdown",
      "metadata": {
        "id": "pWPvxyrR6Njb",
        "colab_type": "text"
      },
      "source": [
        "## Part 1c: Plot the solution for c=0\n",
        "\n",
        "Next, using the time span of the solution `[0, 20]`, plot the positions `x1`, `x2`, `x3`, and `x4` as function of time. Note that these are packaged into the 0th, 1st, 2nd, and 3rd entries of the motion vector.\n",
        "\n",
        "To do this, \n",
        "- first create a NumPy array called `tplot` that contains the instants where you want to evaluate the positions\n",
        "  - this should be an array of times between 0 and 20\n",
        "  - make sure it has enough elements, say more than 100 \n",
        "- then create an array called `yplot_1` that has the solution from Part 1b evaluated at these instants,\n",
        "- finally, use the rows 0 to 3 (inclusive) of `yplot_1` to obtain the plots of x1 through x4. \n",
        "\n",
        "Note that `tplot` will be an array of length `n` of your choosing, and `yplot_1` will be an `8 x n` array consisting of the positions and velocities at each instant chosen in `tplot`. **We will make use of the variables `tplot` and `yplot_1` in other parts below** as well, so make sure you define them.\n",
        "- Note that we are not using \"1\" in the variable name `tplot`, but there is a \"1\" in `yplot_1`"
      ]
    },
    {
      "cell_type": "markdown",
      "metadata": {
        "id": "MW8-zqhi6P7j",
        "colab_type": "text"
      },
      "source": [
        "#### Solution"
      ]
    },
    {
      "cell_type": "code",
      "metadata": {
        "id": "xf-Zle1M23I-",
        "colab_type": "code",
        "outputId": "a1295b55-966e-4f4a-fc8c-a7cdc667d569",
        "colab": {
          "base_uri": "https://localhost:8080/",
          "height": 265
        }
      },
      "source": [
        "tplot=np.linspace(0, 20, 200)\n",
        "yplot_1=sol_1.sol(tplot)\n",
        "plt.plot(tplot, yplot_1[0], label='x1')\n",
        "plt.plot(tplot, yplot_1[1], label='x2')\n",
        "plt.plot(tplot, yplot_1[2], label='x3')\n",
        "plt.plot(tplot, yplot_1[3], label='x4')\n",
        "plt.legend()\n",
        "plt.show()"
      ],
      "execution_count": 47,
      "outputs": [
        {
          "output_type": "display_data",
          "data": {
            "image/png": "[encoded data removed]",
            "text/plain": [
              "<Figure size 432x288 with 1 Axes>"
            ]
          },
          "metadata": {
            "tags": [],
            "needs_background": "light"
          }
        }
      ]
    },
    {
      "cell_type": "code",
      "metadata": {
        "id": "WGOY84otwtMm",
        "colab_type": "code",
        "colab": {}
      },
      "source": [
        "# sanity check: in the plot, the first particle should \n",
        "# start at x=1, and the remaining 4 particles should start at x=0\n",
        "# and the initial velocities should all be zero. check this visually yourself,\n",
        "# and also evaluate the first column (i.e., column number zero) of `yplot_1` \n",
        "# and make sure it consists of a 1 and seven 0s"
      ],
      "execution_count": 0,
      "outputs": []
    },
    {
      "cell_type": "code",
      "metadata": {
        "id": "jOikDSLUUyUh",
        "colab_type": "code",
        "outputId": "18e828c1-6b51-4c87-d2c5-43f328e5c269",
        "colab": {
          "base_uri": "https://localhost:8080/",
          "height": 34
        }
      },
      "source": [
        "yplot_1[:, 0]"
      ],
      "execution_count": 48,
      "outputs": [
        {
          "output_type": "execute_result",
          "data": {
            "text/plain": [
              "array([1., 0., 0., 0., 0., 0., 0., 0.])"
            ]
          },
          "metadata": {
            "tags": []
          },
          "execution_count": 48
        }
      ]
    },
    {
      "cell_type": "markdown",
      "metadata": {
        "id": "4pmsDBsi2oD_",
        "colab_type": "text"
      },
      "source": [
        "## Part 1d: solve with c = 0.5\n",
        "\n",
        "Next,  $c=0.5$ and use the same initial conditions as in Part 1b to get a solution to the equations of motion, once again for `t` between 0 and 20\n",
        "- call your solution object `sol_2`\n",
        "\n",
        "Note that **we will refer to this solution in other parts below**, so make sure you use exactly this name: `sol_2`."
      ]
    },
    {
      "cell_type": "markdown",
      "metadata": {
        "id": "fGb9YFlj8JIa",
        "colab_type": "text"
      },
      "source": [
        "#### Solution\n"
      ]
    },
    {
      "cell_type": "code",
      "metadata": {
        "id": "fulan1g92-Uh",
        "colab_type": "code",
        "colab": {}
      },
      "source": [
        "c=0.5\n",
        "\n",
        "sol_2=si.solve_ivp(f_4mass, [0, 20], [1, 0, 0, 0, 0, 0, 0, 0], dense_output=True)"
      ],
      "execution_count": 0,
      "outputs": []
    },
    {
      "cell_type": "markdown",
      "metadata": {
        "id": "9A-s66po1KN0",
        "colab_type": "text"
      },
      "source": [
        "## Part 1e: plot the solution for c=0.5\n",
        "\n",
        "As in Part 1c, plot the `x1`, `x2`, `x3`, and `x4` motions, this time for the solution `sol_2`, which you got in Part 1d (for $c=0.5$).\n",
        "\n",
        "Use the same `tplot` array you used in Part 1c, but this time, \n",
        "\n",
        "- create an array called `yplot_2` that contains the solution `sol_2` evaluated at the instants specified by `tplot`\n",
        "\n",
        "Note that `yplot_2` will be a `8 x n` array consisting of the positions and velocities at each instant chosen in `tplot`.\n",
        "\n",
        "**We will make use of the variable `yplot_2` in other parts below** as well, so make sure you define it."
      ]
    },
    {
      "cell_type": "markdown",
      "metadata": {
        "id": "BNDNi0kY6NIx",
        "colab_type": "text"
      },
      "source": [
        "#### Solution"
      ]
    },
    {
      "cell_type": "code",
      "metadata": {
        "id": "3ZG4QeCZ6OnT",
        "colab_type": "code",
        "outputId": "51d6c84d-47c2-4bd6-b27b-acb21a1008ff",
        "colab": {
          "base_uri": "https://localhost:8080/",
          "height": 265
        }
      },
      "source": [
        "tplot=np.linspace(0, 20, 200)\n",
        "yplot_2=sol_2.sol(tplot)\n",
        "plt.plot(tplot, yplot_2[0], label='x1')\n",
        "plt.plot(tplot, yplot_2[1], label='x2')\n",
        "plt.plot(tplot, yplot_2[2], label='x3')\n",
        "plt.plot(tplot, yplot_2[3], label='x4')\n",
        "plt.legend()\n",
        "plt.show()"
      ],
      "execution_count": 50,
      "outputs": [
        {
          "output_type": "display_data",
          "data": {
            "image/png": "[encoded data removed]",
            "text/plain": [
              "<Figure size 432x288 with 1 Axes>"
            ]
          },
          "metadata": {
            "tags": [],
            "needs_background": "light"
          }
        }
      ]
    },
    {
      "cell_type": "code",
      "metadata": {
        "id": "VRtY-okZaDzq",
        "colab_type": "code",
        "colab": {}
      },
      "source": [
        "# sanity check: the same sanity check as in Part 1c, the first particle should \n",
        "# start at x=1, and the remaining particles should start at x=0,\n",
        "# and the initial velocities should all be zero. check this visually yourself,\n",
        "# and also evaluate the first column of `yplot_2` and make sure it consists of \n",
        "# a 1 and seven 0s"
      ],
      "execution_count": 0,
      "outputs": []
    },
    {
      "cell_type": "code",
      "metadata": {
        "id": "vkxdjFa7WFvB",
        "colab_type": "code",
        "outputId": "468edc03-e7a6-4ece-f612-003090bd4aa8",
        "colab": {
          "base_uri": "https://localhost:8080/",
          "height": 34
        }
      },
      "source": [
        "yplot_2[:, 0]"
      ],
      "execution_count": 51,
      "outputs": [
        {
          "output_type": "execute_result",
          "data": {
            "text/plain": [
              "array([1., 0., 0., 0., 0., 0., 0., 0.])"
            ]
          },
          "metadata": {
            "tags": []
          },
          "execution_count": 51
        }
      ]
    },
    {
      "cell_type": "markdown",
      "metadata": {
        "id": "ZXjdoO-F5CHk",
        "colab_type": "text"
      },
      "source": [
        "## Part 1f: Define the force matrix for c=0.5"
      ]
    },
    {
      "cell_type": "markdown",
      "metadata": {
        "id": "Cbj4c4ywxDkt",
        "colab_type": "text"
      },
      "source": [
        "Create a $4 \\times 4$ NumPy array `M` such that the **forces on the four particles** are the result of this **matrix acting on the four positions**, for the case **c=0.5**. \n",
        "\n",
        "More explicitly, create `M` so that the following equation holds\n",
        "\n",
        "$$\n",
        "   \\mathbf{F} = M \\cdot \\mathbf{x}\n",
        "$$\n",
        "\n",
        "Here, the dot \"$\\cdot$\" denotes matrix multiplication, and\n",
        "\n",
        "$$\n",
        "  \\mathbf{F} = \\left[\\begin{matrix}F_1\\\\F_2\\\\F_3\\\\F_4\\end{matrix}\\right],\n",
        "$$\n",
        "\n",
        "is the vector describing the **forces on the four particles** as defined in Part 1-Introduction, and\n",
        "\n",
        "$$\n",
        "  \\mathbf{x} = \\left[\\begin{matrix}x_1\\\\x_2\\\\x_3\\\\x_4\\end{matrix}\\right]\n",
        "$$\n",
        "is the vector describing the **positions of the particles**.\n",
        "\n",
        "In component form, we want our $\\mathbf{F}$ to satisfy the following equation in terms of $M$ and $\\mathbf{x}$:\n",
        "\n",
        "$$\n",
        "  F_i = \\sum_{i=1}^4 M_{ij}x_j\n",
        "$$\n",
        "\n",
        "We will call the matrix `M` the **force matrix**.\n",
        "\n",
        "**Note**:\n",
        "- **Don't forget** that we want the matrix $M$ for $c=0.5$, **NOT** $c=0$!"
      ]
    },
    {
      "cell_type": "markdown",
      "metadata": {
        "id": "QwZAjuxN4NkR",
        "colab_type": "text"
      },
      "source": [
        "#### Solution"
      ]
    },
    {
      "cell_type": "code",
      "metadata": {
        "id": "P4x48dSW3HGP",
        "colab_type": "code",
        "outputId": "126d2a57-b98e-4571-be6a-fe74605bd7c3",
        "colab": {
          "base_uri": "https://localhost:8080/",
          "height": 84
        }
      },
      "source": [
        "M=np.array([[-1.5, 1, 0, 0], [1, -2.5, 1, 0], [0, 1, -2.5, 1], [0, 0, 1, -1.5]])\n",
        "M"
      ],
      "execution_count": 52,
      "outputs": [
        {
          "output_type": "execute_result",
          "data": {
            "text/plain": [
              "array([[-1.5,  1. ,  0. ,  0. ],\n",
              "       [ 1. , -2.5,  1. ,  0. ],\n",
              "       [ 0. ,  1. , -2.5,  1. ],\n",
              "       [ 0. ,  0. ,  1. , -1.5]])"
            ]
          },
          "metadata": {
            "tags": []
          },
          "execution_count": 52
        }
      ]
    },
    {
      "cell_type": "code",
      "metadata": {
        "id": "uDhq1dQUrchU",
        "colab_type": "code",
        "outputId": "0899576c-515e-4ca0-d384-3df746f3bba3",
        "colab": {
          "base_uri": "https://localhost:8080/",
          "height": 34
        }
      },
      "source": [
        "# sanity check: your M must be a symmetric matrix,\n",
        "# so this should print True\n",
        "print(np.allclose(M - M.T, 0))"
      ],
      "execution_count": 53,
      "outputs": [
        {
          "output_type": "stream",
          "text": [
            "True\n"
          ],
          "name": "stdout"
        }
      ]
    },
    {
      "cell_type": "markdown",
      "metadata": {
        "id": "KSyB8Ybk9uTU",
        "colab_type": "text"
      },
      "source": [
        "## Note (interlude)\n",
        "\n",
        "This is not strictly necessary for this midterm project, but if you would like to have a deeper understanding of what you are about to compute in the remaining parts of Problem 1, go back to Homework 4 and read the part titled \"Interlude: A derivation for simple harmonic motion\"\n",
        "\n"
      ]
    },
    {
      "cell_type": "markdown",
      "metadata": {
        "id": "GGbl1Sbj9syT",
        "colab_type": "text"
      },
      "source": [
        "## Part 1e: Obtain the eigenvalues and eigenvectors of $-\\mathbf{M}$"
      ]
    },
    {
      "cell_type": "markdown",
      "metadata": {
        "id": "9i3a7KJLB0oV",
        "colab_type": "text"
      },
      "source": [
        "Find and print the eigenvalues and eigenvectors of **minus** $\\mathbf{M}$ for $c=0.5$. Save the eigenvalues into the variable `val`, and the eigenvectors into the variable `vec`.\n",
        "- Dont forget the minus!\n",
        "\n",
        "Note that an eigenvector of $-\\mathbf{M}$ describes the amplitudes of each mass for a motion where all three masses make simple harmonic oscillations in unison (with possibly different magnitudes and signs). The square root of the corresponding eigenvalue gives the frequency of that simple harmonic motion."
      ]
    },
    {
      "cell_type": "markdown",
      "metadata": {
        "id": "AsxW1hiuoPzh",
        "colab_type": "text"
      },
      "source": [
        "* Request by Irem: Once you get the eigenvectors, try to understand the \"characteristic motions\", or \"normal modes\" that are being described by the eigenvectors. Please write a verbal comment on what you understand (2-3 sentences are enough)."
      ]
    },
    {
      "cell_type": "markdown",
      "metadata": {
        "id": "OHZ49V77Fcok",
        "colab_type": "text"
      },
      "source": [
        "#### Solution"
      ]
    },
    {
      "cell_type": "code",
      "metadata": {
        "id": "FhoXxpb86ozh",
        "colab_type": "code",
        "colab": {}
      },
      "source": [
        "val, vec= np.linalg.eig(-M)"
      ],
      "execution_count": 0,
      "outputs": []
    },
    {
      "cell_type": "code",
      "metadata": {
        "id": "B0sHnYoGaAj9",
        "colab_type": "code",
        "outputId": "e77caa16-c17e-49e3-871f-2cfb45eba3ae",
        "colab": {
          "base_uri": "https://localhost:8080/",
          "height": 34
        }
      },
      "source": [
        "val "
      ],
      "execution_count": 55,
      "outputs": [
        {
          "output_type": "execute_result",
          "data": {
            "text/plain": [
              "array([3.91421356, 2.5       , 0.5       , 1.08578644])"
            ]
          },
          "metadata": {
            "tags": []
          },
          "execution_count": 55
        }
      ]
    },
    {
      "cell_type": "code",
      "metadata": {
        "id": "-MMGsWkqaCQb",
        "colab_type": "code",
        "outputId": "aa94ee96-3987-4cdb-d243-1d6f089d52b3",
        "colab": {
          "base_uri": "https://localhost:8080/",
          "height": 84
        }
      },
      "source": [
        "vec #In the first eigenvector, first and fourth particles which have the same amplitudes are going to the opposite directions; and that is the case with the second and the third particles as well\n",
        "    #In the second eigenvector first particle going in the same direction with fourth particle and second and third particles are going in the opposite direction to them. Also all amplitudes are the same.\n",
        "    #In the third eigenvector all particles going in the same direction with same amplitude.\n",
        "    #In the fourth eigenvector, first and fourth particles which have the same amplitudes are going to the opposite directions; and that is the case with the second and the third particles as well"
      ],
      "execution_count": 56,
      "outputs": [
        {
          "output_type": "execute_result",
          "data": {
            "text/plain": [
              "array([[ 0.27059805,  0.5       , -0.5       , -0.65328148],\n",
              "       [-0.65328148, -0.5       , -0.5       , -0.27059805],\n",
              "       [ 0.65328148, -0.5       , -0.5       ,  0.27059805],\n",
              "       [-0.27059805,  0.5       , -0.5       ,  0.65328148]])"
            ]
          },
          "metadata": {
            "tags": []
          },
          "execution_count": 56
        }
      ]
    },
    {
      "cell_type": "code",
      "metadata": {
        "id": "tQix_P42tMgg",
        "colab_type": "code",
        "outputId": "179c1c58-6d21-48ad-edce-81428bf7e6dc",
        "colab": {
          "base_uri": "https://localhost:8080/",
          "height": 50
        }
      },
      "source": [
        "# sanity check: you should have 4 eigenvalues, and all of them should be positive\n",
        "# make sure that these conditions hold\n",
        "\n",
        "print(len(val))\n",
        "\n",
        "print((val > 0).all())"
      ],
      "execution_count": 57,
      "outputs": [
        {
          "output_type": "stream",
          "text": [
            "4\n",
            "True\n"
          ],
          "name": "stdout"
        }
      ]
    },
    {
      "cell_type": "markdown",
      "metadata": {
        "id": "ADPyZuohTtO6",
        "colab_type": "text"
      },
      "source": [
        "## Part 1f: Decompose the solution to the differential equation for $c=0.5$ into normal modes\n",
        "\n",
        "In Part 1d, we defined the variables `tplot` and `yplot_2`:\n",
        " - `yplot_2` contains the positions and velocities evaluated at the instants of `tplot`, for the case $c=0.5$.\n",
        "\n",
        "Now, at any given instant, the displacement vector $\\mathbf{x} = [x_1, x_2, x_3, x_4]^T$ can be written as a linear combination of the four eigenvectors we found. In other words, the time-dependent displacements can be expanded in the **basis formed by the eigenvectors**. \n",
        "\n",
        "We will next obtain these eigenvector expansion coefficients for our particular solution found in Part 1d. \n",
        "\n",
        "Now,\n",
        "- Your `yplot_2` array should be of the shape `8 x n`, where \n",
        "  - `n` is the number of instants you used for your `tplot` array, and \n",
        "  - `8 = (4 positions) + (4 velocities)`\n",
        "- Extract the positions, i.e., the first four rows of `yplot_2`, and call the resuting array `xplot_2`. \n",
        "  - Thus, `xplot_2` should be a `4 x n` dimensional array.\n",
        "- Use `np.matmul()` to define `xeigplot` to be the matrix product \n",
        "$$\n",
        "\\text{xeigpot} = \\text{xplot_2}^T \\cdot \\text{vec}\n",
        "$$\n",
        "where $\\text{xplot_2}^T$ denotes the transpose of `xplot_2`. \n",
        "\n",
        "This computes the dot product of the position at each instant with the individual eigenvectors. We get one column per eigenvector, and one row per instant. Each column represents the component of the position along one eigenvector, and each row represents one instant."
      ]
    },
    {
      "cell_type": "markdown",
      "metadata": {
        "id": "-CU25bDkIoig",
        "colab_type": "text"
      },
      "source": [
        "#### Solution"
      ]
    },
    {
      "cell_type": "code",
      "metadata": {
        "id": "EutdMsAwcRZO",
        "colab_type": "code",
        "colab": {}
      },
      "source": [
        "xplot_2=yplot_2[:4, :]"
      ],
      "execution_count": 0,
      "outputs": []
    },
    {
      "cell_type": "code",
      "metadata": {
        "id": "7fIpDAzbczeb",
        "colab_type": "code",
        "colab": {}
      },
      "source": [
        "xeigplot=np.matmul(xplot_2.T, vec)"
      ],
      "execution_count": 0,
      "outputs": []
    },
    {
      "cell_type": "code",
      "metadata": {
        "id": "o2OcsOnguNp5",
        "colab_type": "code",
        "outputId": "94e57825-bfc0-4827-af4a-096ae343f316",
        "colab": {
          "base_uri": "https://localhost:8080/",
          "height": 50
        }
      },
      "source": [
        "# Sanity check:  `xeigplot` should be an `n x 4` matrix\n",
        "# where n is the length of your `tplot`. confirm this.\n",
        "\n",
        "print(xeigplot.shape)\n",
        "print(len(tplot))"
      ],
      "execution_count": 60,
      "outputs": [
        {
          "output_type": "stream",
          "text": [
            "(200, 4)\n",
            "200\n"
          ],
          "name": "stdout"
        }
      ]
    },
    {
      "cell_type": "markdown",
      "metadata": {
        "id": "0Tf1VeSUKg5K",
        "colab_type": "text"
      },
      "source": [
        "## Part 1g: Plot the normal mode amplitudes\n",
        "\n",
        "Using `tplot` as the x-axis values and each one of the columns of `xeigplot` in the y-axis one by one, create a plot of the four normal mode components as a function of time.\n",
        "\n",
        "In other words, on the same figure, plot 4 curves, where the y values of each curve corresponds to a row of `xeigplot`.\n",
        "\n",
        "\n",
        "With this plot, we should see that:\n",
        "\n",
        "- We had some complicated looking motion of our four-particle system of coupled oscillators, but\n",
        "- when this motion is decomposed into the normal modes, each component does simple harmonic oscillations."
      ]
    },
    {
      "cell_type": "markdown",
      "metadata": {
        "id": "-0zcpCj-Klzx",
        "colab_type": "text"
      },
      "source": [
        "#### Solution"
      ]
    },
    {
      "cell_type": "code",
      "metadata": {
        "id": "zoI-2tpW4e5v",
        "colab_type": "code",
        "outputId": "d4a0632e-2f20-4450-a50c-846293297dda",
        "colab": {
          "base_uri": "https://localhost:8080/",
          "height": 265
        }
      },
      "source": [
        "plt.plot(tplot, xeigplot[:,0], label=\"mode1\")\n",
        "plt.plot(tplot, xeigplot[:,1], label=\"mode2\")\n",
        "plt.plot(tplot, xeigplot[:,2], label=\"mode3\")\n",
        "plt.plot(tplot, xeigplot[:,3], label=\"mode4\")\n",
        "plt.legend()\n",
        "plt.show()"
      ],
      "execution_count": 61,
      "outputs": [
        {
          "output_type": "display_data",
          "data": {
            "image/png": "[encoded data removed]",
            "text/plain": [
              "<Figure size 432x288 with 1 Axes>"
            ]
          },
          "metadata": {
            "tags": [],
            "needs_background": "light"
          }
        }
      ]
    },
    {
      "cell_type": "code",
      "metadata": {
        "id": "Xrx9jr_OPWCH",
        "colab_type": "code",
        "colab": {}
      },
      "source": [
        "#All curves look sinusiodial. Also looking the eigenvalues val[0]>val[1]>val[3]>val[2] this is compatible with frequencies of modes which is mode1>mode2>mode4>mode3"
      ],
      "execution_count": 0,
      "outputs": []
    },
    {
      "cell_type": "markdown",
      "metadata": {
        "id": "6WZTo_KPv6z7",
        "colab_type": "text"
      },
      "source": [
        "Visual sanity checks:\n",
        "- All 4 components should be doing simple harmonic oscillations; you can visually check the plots to confirm that the motion curves roughly look sinusioidal (as opposed to having non-sinusoidal characteristics like local maxima at different heights, etc.)\n",
        "\n",
        "Just add a verbal comment about your sanity check, no need to do any computation here.\n"
      ]
    },
    {
      "cell_type": "markdown",
      "metadata": {
        "id": "OIKVyxksVj2z",
        "colab_type": "text"
      },
      "source": [
        "## Appendix for Problem 1: Some tidbits about QFT and a recent BOUN Phys seminar\n",
        "\n",
        "(This part is not required for the project, read only if you are curious, and only after you are done with the project!)"
      ]
    },
    {
      "cell_type": "markdown",
      "metadata": {
        "id": "cePdt5vEPo8T",
        "colab_type": "text"
      },
      "source": [
        "A **long** chain of pendulums coupled with springs is a prototype of a special type of **continuous medium**: \n",
        "- In the limit of a large number of pendulums, and, \n",
        "- in the limit of \"long wavelengths\" \n",
        "  - (meaning: in the limit where the amount of displacement changes very little as you move from pendulum to pendulum, and it changes appreciably only over large numbers of pendulums),\n",
        "\n",
        "the equations describing this system become the Klein-Gordon equation. This equation was mentioned in a few recent homeworks. \n",
        "\n",
        "In the context of quantum field theory, where the K-G equation is most famously used, the pendulum displacement becomes a \"field\", and its \"fundamental excitations\" become \"particles\" (this is, admittedly, a bit of a weird story). In this context, the pendulum force parameter $c$ becomes a measure of the **mass squared** of the particle being described by the K-G equation.\n",
        "\n",
        "You can also imagine having a **negative** value for $c$ in the pendulum problem. This would be something like having upside-down pendulums---the pendulum force will become positively proportional to displacement, instead of having a negative correlation with it. This would result in an **unstable** system. \n",
        "\n",
        "An extension of quantum field theory is **QFT on a curved spacetime**: you assume spacetime is curved as envisaged by Einstein, and try to describe the dynamics of a field that lives on this spacetime. \n",
        "- Note that this is **not** quantum gravity---in this case gravity is non-quantum, but a quantum field lives on the curved spacetime representing the gravitational field.\n",
        "\n",
        "This sort of a setting was mentioned in a recent BOUN Phys seminar by Dr. Gizem Şengör. \n",
        "\n",
        "One famous curved spacetime is called the \"anti-de Sitter space\". Due to a very interesting phenomenon, it turns out that negative $c$ (negative mass squared!) may result in **stable behavior** in this strange space. It is as if upside-down pendulums become stable for some reason.\n",
        "\n",
        "The talk by Dr. Şengör described de Sitter space; anti de Sitter space is in some sense the \"opposite\" of de Sitter space. \n",
        "\n",
        "- For a cute personal story involving a famous book on such topics, see [here](https://twitter.com/ArkadasOzakin/status/1238775298541457413).\n",
        "- I have a personal pet project on understanding the $c<0$ stability mentioned above in elementary terms. (This may some day become a student project if I get around to it!)\n"
      ]
    },
    {
      "cell_type": "markdown",
      "metadata": {
        "id": "I9b81Y4DKlXN",
        "colab_type": "text"
      },
      "source": [
        "# Problem 2: Epidemiology: The Susceptible-Exposed-Infected-Recovered (SEIR) Model"
      ]
    },
    {
      "cell_type": "markdown",
      "metadata": {
        "id": "lWzVmo-MhwCe",
        "colab_type": "text"
      },
      "source": [
        "In this problem, we will investigate the dynamics of a simple epidemological model, namely the Susceptible-Exposed-Infected-Recovered, or SEIR model. This is a slightly **extended version** of the SIR model mentioned in Homework 4.\n",
        "\n",
        "Say we have a population of N people, and a contagious disease is going aroud. We will make the simplifying assumption that there are four types of people:\n",
        "\n",
        "- **S**: **Susceptible**. These people have not yet caught the disease. If they do catch it, they become **Exposed**.\n",
        "- **E**: **Exposed**. These people have caught the disease, but they are **not yet infectious** themselves. After an \"incubation\" period, they become **Infectious**.\n",
        "- **I**: **Infectious**. These people currently carry the disease, and are capable of passing it to the **Susceptible** people. Over time, they get well and become **Recovered**.\n",
        "- **R**: **Recovered**. These people had the disease and they now recovered. They are immune, so they can't catch it again. They can't infect other people, either.\n",
        "\n",
        "We will assume that these numbers change in time according to the following equations ($\\beta$, $\\sigma$, and $\\gamma$ are constants we will specify below):\n",
        "\n",
        "$$\n",
        "\\begin{eqnarray}\n",
        "\\frac{dS}{dt} &=& -\\frac{\\beta SI}{N}\\\\\n",
        "\\frac{dE}{dt} &=& \\frac{\\beta SI}{N} - \\sigma E\\\\\n",
        "\\frac{dI}{dt} &=&  \\sigma E - \\gamma I\\\\\n",
        "\\frac{dR}{dt} &=& \\gamma I \n",
        "\\end{eqnarray}\n",
        "$$\n",
        "\n",
        "Here, \n",
        "- $\\beta$ describes the rate at which infected people pass the disease to others, \n",
        "- $1/\\sigma$ determines the so-called \"incubation period\", and \n",
        "- $\\gamma$ is the rate at which infected people recover from the disease. \n",
        "\n",
        "> The so-called basic reproduction number $R_0$, which you may have heard about in the context of COVID-19, is given in this model by $R_0 = \\beta/\\gamma$---but we will not use this.\n",
        "\n"
      ]
    },
    {
      "cell_type": "markdown",
      "metadata": {
        "id": "TeaLTCmxn71f",
        "colab_type": "text"
      },
      "source": [
        "## Part 2a: Implement the `f(t, y)` function describing the equations"
      ]
    },
    {
      "cell_type": "markdown",
      "metadata": {
        "id": "Z69IA-0_oDyW",
        "colab_type": "text"
      },
      "source": [
        "We have four first order differential equations for the four unknown functions of time, $S$, $E$, $I$, $R$. Since there are no second order equations, we don't need to do the \"order reduction\" trick this time---we just need a four-component vector\n",
        "```\n",
        "y = [S, E, I, R]\n",
        "```\n",
        "describing our variables, and an `f(t, y)` function that returns the four derivatives `[S', E', I', R']`. \n",
        "\n",
        "Your task is to\n",
        "- **define the appropriate `f(t, v)`**\n",
        "\n",
        "At this stage, keep the constants \n",
        "- `N`, \n",
        "- $\\beta$ = `beta`, \n",
        "- $\\sigma$ =`sigma`, \n",
        "- $\\gamma$ = `gamma`\n",
        "\n",
        "as undetermined variables."
      ]
    },
    {
      "cell_type": "markdown",
      "metadata": {
        "id": "mudoVJcLRwIV",
        "colab_type": "text"
      },
      "source": [
        "#### Solution"
      ]
    },
    {
      "cell_type": "code",
      "metadata": {
        "id": "dxsIFDHp4mOV",
        "colab_type": "code",
        "colab": {}
      },
      "source": [
        "def f(t, y):\n",
        "  return np.array([-beta*y[0]*y[2]/N, (beta*y[0]*y[2]/N)-sigma*y[1], sigma*y[1]-gamma*y[2], gamma*y[2]])"
      ],
      "execution_count": 0,
      "outputs": []
    },
    {
      "cell_type": "code",
      "metadata": {
        "id": "OIdeT8-WzpbK",
        "colab_type": "code",
        "outputId": "05046d48-41de-4712-b77d-85233a2b3179",
        "colab": {
          "base_uri": "https://localhost:8080/",
          "height": 34
        }
      },
      "source": [
        "# sanity check: this should print [-3, -1, -5, 9]\n",
        "# do not skip the `del` line when running the sanity check!\n",
        "beta  = 1\n",
        "sigma = 2\n",
        "gamma = 3\n",
        "N     = 1\n",
        "print(f(0, [1, 2, 3, 4]))\n",
        "del beta, sigma, gamma, N"
      ],
      "execution_count": 63,
      "outputs": [
        {
          "output_type": "stream",
          "text": [
            "[-3. -1. -5.  9.]\n"
          ],
          "name": "stdout"
        }
      ]
    },
    {
      "cell_type": "markdown",
      "metadata": {
        "id": "u4eexm2JYELt",
        "colab_type": "text"
      },
      "source": [
        "## Part 2b: Solve the equation for an \"expansion\"\n",
        "\n",
        "Use the parameter values\n",
        "```\n",
        "beta  = 0.4\n",
        "sigma = 0.1\n",
        "gamma = 0.1\n",
        "N     = 10000 (number of people in the population)\n",
        "```\n",
        "together with the initial conditions\n",
        "```\n",
        "E(0) = e0 = 2000\n",
        "I(0) = i0 = 1000\n",
        "R(0) = r0 = 0\n",
        "S(0) = s0 = N - e0 - i0 - r0\n",
        "```\n",
        "to solve the SEIR equations for a time range of `[0,100]`.\n",
        "\n",
        "With this choice, the disease starts by spreading, and eventually asymptotes to an equilibrium distribution.\n"
      ]
    },
    {
      "cell_type": "markdown",
      "metadata": {
        "id": "ShKi7q-QTRve",
        "colab_type": "text"
      },
      "source": [
        "#### Solution"
      ]
    },
    {
      "cell_type": "code",
      "metadata": {
        "id": "V1_uQW_9YDYG",
        "colab_type": "code",
        "colab": {}
      },
      "source": [
        "beta  = 0.4\n",
        "sigma = 0.1\n",
        "gamma = 0.1\n",
        "N     = 10000\n",
        "e0 = 2000\n",
        "i0 = 1000\n",
        "r0 = 0\n",
        "s0 = N - e0 - i0 - r0 \n",
        "soln1=si.solve_ivp(f, [0, 100], [s0, e0, i0, r0], dense_output=True)"
      ],
      "execution_count": 0,
      "outputs": []
    },
    {
      "cell_type": "markdown",
      "metadata": {
        "id": "eoSVB3YuTi2t",
        "colab_type": "text"
      },
      "source": [
        "## Part 2c: Visualize N gösterilecek mi?\n",
        "\n",
        "Plot the four functions `S`, `E`, `I`, `R` for the solution found in Part 2b.\n",
        "\n"
      ]
    },
    {
      "cell_type": "markdown",
      "metadata": {
        "id": "q9Kdiv9bTrWc",
        "colab_type": "text"
      },
      "source": [
        "#### Solution"
      ]
    },
    {
      "cell_type": "code",
      "metadata": {
        "id": "fr0TKe3h6xRK",
        "colab_type": "code",
        "outputId": "c7d88f0d-a535-44f2-fb8a-357cd8888f1e",
        "colab": {
          "base_uri": "https://localhost:8080/",
          "height": 265
        }
      },
      "source": [
        "t=np.linspace(0, 100, 1000)\n",
        "plt.plot(t, soln1.sol(t)[0], label='S')\n",
        "plt.plot(t, soln1.sol(t)[1], label='E')\n",
        "plt.plot(t, soln1.sol(t)[2], label='I')\n",
        "plt.plot(t, soln1.sol(t)[3], label='R')\n",
        "plt.legend()\n",
        "plt.show()"
      ],
      "execution_count": 65,
      "outputs": [
        {
          "output_type": "display_data",
          "data": {
            "image/png": "[encoded data removed]",
            "text/plain": [
              "<Figure size 432x288 with 1 Axes>"
            ]
          },
          "metadata": {
            "tags": [],
            "needs_background": "light"
          }
        }
      ]
    },
    {
      "cell_type": "markdown",
      "metadata": {
        "id": "RCbmNsaQ1DdU",
        "colab_type": "text"
      },
      "source": [
        "Visual sanity checks (no need for computations):\n",
        "- You should see the `E` and `I` curves peaking, and then going down to zero. The peak of `E` should happen before the peak of `I`.\n",
        "- The eventual value of `R` should be equal to `N`---everybody eventually recovers, according to this model.\n",
        "\n",
        "No need to do any computations for these checks, just add a short verbal comment."
      ]
    },
    {
      "cell_type": "code",
      "metadata": {
        "id": "ZtAEyUcWm5SF",
        "colab_type": "code",
        "colab": {}
      },
      "source": [
        "#peak of E is before the peak of I and also R=10000 in the end which is the number of people in the population. "
      ],
      "execution_count": 0,
      "outputs": []
    },
    {
      "cell_type": "markdown",
      "metadata": {
        "id": "ENuTAmaHT6UN",
        "colab_type": "text"
      },
      "source": [
        "## Part 2d: Solve the equation for a \"contraction\"\n",
        "\n",
        "Next, use \n",
        "```\n",
        "beta  = 0.2\n",
        "sigma = 0.2\n",
        "gamma = 0.4\n",
        "```\n",
        "together with the same `N` and the same initial conditions as in Part 2b to solve the SEIR equations for a time range of [0,100].\n",
        "\n",
        "With this choce, the disease starts by contracting, and eventually asymptotes to an equilibrium distribution."
      ]
    },
    {
      "cell_type": "markdown",
      "metadata": {
        "id": "sK7kWvfLUFrq",
        "colab_type": "text"
      },
      "source": [
        "#### Solution"
      ]
    },
    {
      "cell_type": "code",
      "metadata": {
        "id": "-p99iZyG5TlN",
        "colab_type": "code",
        "colab": {}
      },
      "source": [
        "beta  = 0.2\n",
        "sigma = 0.2\n",
        "gamma = 0.4\n",
        "N     = 10000\n",
        "e0 = 2000\n",
        "i0 = 1000\n",
        "r0 = 0\n",
        "s0 = N - e0 - i0 - r0 \n",
        "soln2=si.solve_ivp(f, [0, 100], [s0, e0, i0, r0], dense_output=True)"
      ],
      "execution_count": 0,
      "outputs": []
    },
    {
      "cell_type": "markdown",
      "metadata": {
        "id": "IMqJuDbOUMH1",
        "colab_type": "text"
      },
      "source": [
        "## Part 2e: Visualize\n",
        "\n",
        "Plot the four functions `S`, `E`, `I`, `R` for the solution found in Part 2d."
      ]
    },
    {
      "cell_type": "markdown",
      "metadata": {
        "id": "wcX7ABdl5PfX",
        "colab_type": "text"
      },
      "source": [
        "#### Solution"
      ]
    },
    {
      "cell_type": "code",
      "metadata": {
        "id": "_lKa_0kI5SYi",
        "colab_type": "code",
        "outputId": "0e578cdc-47d2-4e13-dd27-da428668a2a7",
        "colab": {
          "base_uri": "https://localhost:8080/",
          "height": 265
        }
      },
      "source": [
        "t=np.linspace(0, 100, 1000)\n",
        "plt.plot(t, soln2.sol(t)[0], label='S')\n",
        "plt.plot(t, soln2.sol(t)[1], label='E')\n",
        "plt.plot(t, soln2.sol(t)[2], label='I')\n",
        "plt.plot(t, soln2.sol(t)[3], label='R')\n",
        "plt.legend()\n",
        "plt.show()"
      ],
      "execution_count": 67,
      "outputs": [
        {
          "output_type": "display_data",
          "data": {
            "image/png": "[encoded data removed]",
            "text/plain": [
              "<Figure size 432x288 with 1 Axes>"
            ]
          },
          "metadata": {
            "tags": [],
            "needs_background": "light"
          }
        }
      ]
    },
    {
      "cell_type": "code",
      "metadata": {
        "id": "blWhi8obn5dw",
        "colab_type": "code",
        "colab": {}
      },
      "source": [
        "#In the end R+S=10000 which is equal to N (number of people in the population)."
      ],
      "execution_count": 0,
      "outputs": []
    },
    {
      "cell_type": "markdown",
      "metadata": {
        "id": "NObLiOAchoaw",
        "colab_type": "text"
      },
      "source": [
        "## Appendix on Problem 2: Additional reading\n",
        "\n",
        "Note that these are **not required reading**---check them out only if you are curious, and only after you are done with the project."
      ]
    },
    {
      "cell_type": "markdown",
      "metadata": {
        "id": "vsfY4eTJ1fes",
        "colab_type": "text"
      },
      "source": [
        "If you are curious, you can read more about the SEIR model on e.g. \n",
        "- [Wikipedia](https://en.wikipedia.org/wiki/Compartmental_models_in_epidemiology#The_SEIR_model) and the references given there, or on [this page](https://www.idmod.org/docs/hiv/model-seir.html#).\n",
        "\n",
        "Note that we are using a special case of the SEIR model with zero birth/death rates.\n"
      ]
    },
    {
      "cell_type": "code",
      "metadata": {
        "id": "oIqfle6V1o3g",
        "colab_type": "code",
        "colab": {}
      },
      "source": [
        ""
      ],
      "execution_count": 0,
      "outputs": []
    }
  ]
}